{
  "nbformat": 4,
  "nbformat_minor": 0,
  "metadata": {
    "kernelspec": {
      "name": "python3",
      "display_name": "Python 3"
    },
    "language_info": {
      "codemirror_mode": {
        "name": "ipython",
        "version": 3
      },
      "file_extension": ".py",
      "mimetype": "text/x-python",
      "name": "python",
      "nbconvert_exporter": "python",
      "pygments_lexer": "ipython3",
      "version": "3.7.3"
    },
    "colab": {
      "name": "Copy of Team 5 - Global Terrorism.ipynb",
      "version": "0.3.2",
      "provenance": [],
      "collapsed_sections": [],
      "toc_visible": true
    },
    "accelerator": "GPU"
  },
  "cells": [
    {
      "cell_type": "markdown",
      "metadata": {
        "id": "FENLRZYzA_qV",
        "colab_type": "text"
      },
      "source": [
        "# Team 5 - Global Terrorism\n",
        "\n",
        "![](https://www.start.umd.edu/gtd/images/START_GlobalTerrorismDatabase_TerroristAttacksConcentrationIntensityMap_45Years.png)\n",
        "\n",
        "_For more information about the dataset, read [here](https://www.kaggle.com/START-UMD/gtd)._\n",
        "\n",
        "## Your tasks\n",
        "- Name your team!\n",
        "- Read the source and do some quick research to understand more about the dataset and its topic\n",
        "- Clean the data\n",
        "- Perform Exploratory Data Analysis on the dataset\n",
        "- Analyze the data more deeply and extract insights\n",
        "- Visualize your analysis on Google Data Studio\n",
        "- Present your works in front of the class and guests next Monday\n",
        "\n",
        "## Submission Guide\n",
        "- Create a Github repository for your project\n",
        "- Upload the dataset (.csv file) and the Jupyter Notebook to your Github repository. In the Jupyter Notebook, **include the link to your Google Data Studio report**.\n",
        "- Submit your works through this [Google Form](https://forms.gle/oxtXpGfS8JapVj3V8).\n",
        "\n",
        "## Tips for Data Cleaning, Manipulation & Visualization\n",
        "- Here are some of our tips for Data Cleaning, Manipulation & Visualization. [Click here](https://hackmd.io/cBNV7E6TT2WMliQC-GTw1A)\n",
        "\n",
        "_____________________________\n",
        "\n",
        "## Some Hints for This Dataset:\n",
        "- Use `encoding ='ISO-8859-1'` when reading the .csv file\n",
        "- There are many columns that are not really helpful for us. Can you identify and drop them?\n",
        "- Can you draw a map of terrorism event locations?\n",
        "- And more..."
      ]
    },
    {
      "cell_type": "code",
      "metadata": {
        "id": "8Ezr5WaSD6Xp",
        "colab_type": "code",
        "outputId": "962956b2-c6fe-4db3-ac3a-ac33b3507874",
        "colab": {
          "base_uri": "https://localhost:8080/",
          "height": 55
        }
      },
      "source": [
        "# Since we store our data in google drive, let's mount drive and access it\n",
        "from google.colab import drive\n",
        "drive.mount('/content/drive')"
      ],
      "execution_count": 0,
      "outputs": [
        {
          "output_type": "stream",
          "text": [
            "Drive already mounted at /content/drive; to attempt to forcibly remount, call drive.mount(\"/content/drive\", force_remount=True).\n"
          ],
          "name": "stdout"
        }
      ]
    },
    {
      "cell_type": "code",
      "metadata": {
        "id": "DzFpDJBBKQtr",
        "colab_type": "code",
        "outputId": "3f77b68a-7bc7-4ed0-ce66-e63f0541f68e",
        "colab": {
          "base_uri": "https://localhost:8080/",
          "height": 35
        }
      },
      "source": [
        "# ValueError: cannot set WRITEABLE flag to True of this array\n",
        "\n",
        "# This error appear if we try to read from hdf , seems like incompatible version\n",
        "!pip install numpy==1.15.0"
      ],
      "execution_count": 0,
      "outputs": [
        {
          "output_type": "stream",
          "text": [
            "Requirement already satisfied: numpy==1.15.0 in /usr/local/lib/python3.6/dist-packages (1.15.0)\n"
          ],
          "name": "stdout"
        }
      ]
    },
    {
      "cell_type": "code",
      "metadata": {
        "id": "d7a4aQm4LfmJ",
        "colab_type": "code",
        "colab": {}
      },
      "source": [
        "# Hope downgrade numpy worth\n",
        "# Well here we go again, let's run all previous cell\n",
        "# Since i already delete all previous cell \n",
        "# Because it's a pain to run everything again and got stuck to error cell\n",
        "import numpy as np\n",
        "import pandas as pd\n",
        "import seaborn as sns\n",
        "import matplotlib.pyplot as plt\n",
        "%matplotlib inline\n",
        "import warnings\n",
        "warnings.filterwarnings('ignore')\n",
        "\n",
        "sns.set_style(\"whitegrid\")\n",
        "\n",
        "# file_path = '/content/drive/My Drive/terrorism.csv'\n",
        "# gbtm_data = pd.read_csv(file_path, encoding ='ISO-8859-1')\n",
        "\n",
        "# gbtm_data.to_hdf('/content/drive/My Drive/terrorism.h5', 'data')\n",
        "gbtm_data_hdf = pd.read_hdf('/content/drive/My Drive/terrorism.h5')"
      ],
      "execution_count": 0,
      "outputs": []
    },
    {
      "cell_type": "code",
      "metadata": {
        "id": "bWBHIfWgL2aB",
        "colab_type": "code",
        "outputId": "4081a084-fa44-41ff-ea25-0eb80ce4ca63",
        "colab": {
          "base_uri": "https://localhost:8080/",
          "height": 109
        }
      },
      "source": [
        "# Seems like no more problem, hope downgrade numpy is worth it\n",
        "gbtm_data_hdf.info()"
      ],
      "execution_count": 0,
      "outputs": [
        {
          "output_type": "stream",
          "text": [
            "<class 'pandas.core.frame.DataFrame'>\n",
            "Int64Index: 181691 entries, 0 to 181690\n",
            "Columns: 135 entries, eventid to related\n",
            "dtypes: float64(55), int64(22), object(58)\n",
            "memory usage: 188.5+ MB\n"
          ],
          "name": "stdout"
        }
      ]
    },
    {
      "cell_type": "code",
      "metadata": {
        "id": "JnOZL_NrVMH3",
        "colab_type": "code",
        "outputId": "b3a24d5c-c702-431e-a900-e1b2c0c41858",
        "colab": {
          "base_uri": "https://localhost:8080/",
          "height": 320
        }
      },
      "source": [
        "gbtm_data_hdf.describe()"
      ],
      "execution_count": 0,
      "outputs": [
        {
          "output_type": "execute_result",
          "data": {
            "text/html": [
              "<div>\n",
              "<style scoped>\n",
              "    .dataframe tbody tr th:only-of-type {\n",
              "        vertical-align: middle;\n",
              "    }\n",
              "\n",
              "    .dataframe tbody tr th {\n",
              "        vertical-align: top;\n",
              "    }\n",
              "\n",
              "    .dataframe thead th {\n",
              "        text-align: right;\n",
              "    }\n",
              "</style>\n",
              "<table border=\"1\" class=\"dataframe\">\n",
              "  <thead>\n",
              "    <tr style=\"text-align: right;\">\n",
              "      <th></th>\n",
              "      <th>eventid</th>\n",
              "      <th>iyear</th>\n",
              "      <th>imonth</th>\n",
              "      <th>iday</th>\n",
              "      <th>extended</th>\n",
              "      <th>country</th>\n",
              "      <th>region</th>\n",
              "      <th>latitude</th>\n",
              "      <th>longitude</th>\n",
              "      <th>specificity</th>\n",
              "      <th>vicinity</th>\n",
              "      <th>crit1</th>\n",
              "      <th>crit2</th>\n",
              "      <th>crit3</th>\n",
              "      <th>doubtterr</th>\n",
              "      <th>alternative</th>\n",
              "      <th>multiple</th>\n",
              "      <th>success</th>\n",
              "      <th>suicide</th>\n",
              "      <th>attacktype1</th>\n",
              "      <th>attacktype2</th>\n",
              "      <th>attacktype3</th>\n",
              "      <th>targtype1</th>\n",
              "      <th>targsubtype1</th>\n",
              "      <th>natlty1</th>\n",
              "      <th>targtype2</th>\n",
              "      <th>targsubtype2</th>\n",
              "      <th>natlty2</th>\n",
              "      <th>targtype3</th>\n",
              "      <th>targsubtype3</th>\n",
              "      <th>natlty3</th>\n",
              "      <th>guncertain1</th>\n",
              "      <th>guncertain2</th>\n",
              "      <th>guncertain3</th>\n",
              "      <th>individual</th>\n",
              "      <th>nperps</th>\n",
              "      <th>nperpcap</th>\n",
              "      <th>claimed</th>\n",
              "      <th>claimmode</th>\n",
              "      <th>claim2</th>\n",
              "      <th>claimmode2</th>\n",
              "      <th>claim3</th>\n",
              "      <th>claimmode3</th>\n",
              "      <th>compclaim</th>\n",
              "      <th>weaptype1</th>\n",
              "      <th>weapsubtype1</th>\n",
              "      <th>weaptype2</th>\n",
              "      <th>weapsubtype2</th>\n",
              "      <th>weaptype3</th>\n",
              "      <th>weapsubtype3</th>\n",
              "      <th>weaptype4</th>\n",
              "      <th>weapsubtype4</th>\n",
              "      <th>nkill</th>\n",
              "      <th>nkillus</th>\n",
              "      <th>nkillter</th>\n",
              "      <th>nwound</th>\n",
              "      <th>nwoundus</th>\n",
              "      <th>nwoundte</th>\n",
              "      <th>property</th>\n",
              "      <th>propextent</th>\n",
              "      <th>propvalue</th>\n",
              "      <th>ishostkid</th>\n",
              "      <th>nhostkid</th>\n",
              "      <th>nhostkidus</th>\n",
              "      <th>nhours</th>\n",
              "      <th>ndays</th>\n",
              "      <th>ransom</th>\n",
              "      <th>ransomamt</th>\n",
              "      <th>ransomamtus</th>\n",
              "      <th>ransompaid</th>\n",
              "      <th>ransompaidus</th>\n",
              "      <th>hostkidoutcome</th>\n",
              "      <th>nreleased</th>\n",
              "      <th>INT_LOG</th>\n",
              "      <th>INT_IDEO</th>\n",
              "      <th>INT_MISC</th>\n",
              "      <th>INT_ANY</th>\n",
              "    </tr>\n",
              "  </thead>\n",
              "  <tbody>\n",
              "    <tr>\n",
              "      <th>count</th>\n",
              "      <td>1.816910e+05</td>\n",
              "      <td>181691.000000</td>\n",
              "      <td>181691.000000</td>\n",
              "      <td>181691.000000</td>\n",
              "      <td>181691.000000</td>\n",
              "      <td>181691.000000</td>\n",
              "      <td>181691.000000</td>\n",
              "      <td>177135.000000</td>\n",
              "      <td>1.771340e+05</td>\n",
              "      <td>181685.000000</td>\n",
              "      <td>181691.000000</td>\n",
              "      <td>181691.000000</td>\n",
              "      <td>181691.000000</td>\n",
              "      <td>181691.000000</td>\n",
              "      <td>181690.000000</td>\n",
              "      <td>29011.000000</td>\n",
              "      <td>181690.000000</td>\n",
              "      <td>181691.000000</td>\n",
              "      <td>181691.000000</td>\n",
              "      <td>181691.000000</td>\n",
              "      <td>6314.000000</td>\n",
              "      <td>428.000000</td>\n",
              "      <td>181691.000000</td>\n",
              "      <td>171318.000000</td>\n",
              "      <td>180132.000000</td>\n",
              "      <td>11144.000000</td>\n",
              "      <td>10685.000000</td>\n",
              "      <td>10828.000000</td>\n",
              "      <td>1176.000000</td>\n",
              "      <td>1097.000000</td>\n",
              "      <td>1147.000000</td>\n",
              "      <td>181311.000000</td>\n",
              "      <td>1955.000000</td>\n",
              "      <td>320.000000</td>\n",
              "      <td>181691.000000</td>\n",
              "      <td>110576.000000</td>\n",
              "      <td>112202.000000</td>\n",
              "      <td>115571.000000</td>\n",
              "      <td>19083.000000</td>\n",
              "      <td>1890.000000</td>\n",
              "      <td>616.000000</td>\n",
              "      <td>318.000000</td>\n",
              "      <td>133.000000</td>\n",
              "      <td>4839.000000</td>\n",
              "      <td>181691.000000</td>\n",
              "      <td>160923.000000</td>\n",
              "      <td>13127.000000</td>\n",
              "      <td>11542.000000</td>\n",
              "      <td>1863.000000</td>\n",
              "      <td>1693.000000</td>\n",
              "      <td>73.000000</td>\n",
              "      <td>70.000000</td>\n",
              "      <td>171378.000000</td>\n",
              "      <td>117245.000000</td>\n",
              "      <td>114733.000000</td>\n",
              "      <td>165380.000000</td>\n",
              "      <td>116989.000000</td>\n",
              "      <td>112548.000000</td>\n",
              "      <td>181691.000000</td>\n",
              "      <td>64065.000000</td>\n",
              "      <td>3.898900e+04</td>\n",
              "      <td>181513.000000</td>\n",
              "      <td>13572.000000</td>\n",
              "      <td>13517.000000</td>\n",
              "      <td>4063.000000</td>\n",
              "      <td>8124.000000</td>\n",
              "      <td>77381.000000</td>\n",
              "      <td>1.350000e+03</td>\n",
              "      <td>5.630000e+02</td>\n",
              "      <td>7.740000e+02</td>\n",
              "      <td>552.000000</td>\n",
              "      <td>10991.000000</td>\n",
              "      <td>10400.000000</td>\n",
              "      <td>181691.000000</td>\n",
              "      <td>181691.000000</td>\n",
              "      <td>181691.000000</td>\n",
              "      <td>181691.000000</td>\n",
              "    </tr>\n",
              "    <tr>\n",
              "      <th>mean</th>\n",
              "      <td>2.002705e+11</td>\n",
              "      <td>2002.638997</td>\n",
              "      <td>6.467277</td>\n",
              "      <td>15.505644</td>\n",
              "      <td>0.045346</td>\n",
              "      <td>131.968501</td>\n",
              "      <td>7.160938</td>\n",
              "      <td>23.498343</td>\n",
              "      <td>-4.586957e+02</td>\n",
              "      <td>1.451452</td>\n",
              "      <td>0.068297</td>\n",
              "      <td>0.988530</td>\n",
              "      <td>0.993093</td>\n",
              "      <td>0.875668</td>\n",
              "      <td>-0.523171</td>\n",
              "      <td>1.292923</td>\n",
              "      <td>0.137773</td>\n",
              "      <td>0.889598</td>\n",
              "      <td>0.036507</td>\n",
              "      <td>3.247547</td>\n",
              "      <td>3.719512</td>\n",
              "      <td>5.245327</td>\n",
              "      <td>8.439719</td>\n",
              "      <td>46.971474</td>\n",
              "      <td>127.686441</td>\n",
              "      <td>10.247218</td>\n",
              "      <td>55.311652</td>\n",
              "      <td>131.179442</td>\n",
              "      <td>10.021259</td>\n",
              "      <td>55.548769</td>\n",
              "      <td>144.564952</td>\n",
              "      <td>0.081440</td>\n",
              "      <td>0.265473</td>\n",
              "      <td>0.193750</td>\n",
              "      <td>0.002950</td>\n",
              "      <td>-65.361154</td>\n",
              "      <td>-1.517727</td>\n",
              "      <td>0.049666</td>\n",
              "      <td>7.022848</td>\n",
              "      <td>0.247619</td>\n",
              "      <td>7.176948</td>\n",
              "      <td>0.411950</td>\n",
              "      <td>6.729323</td>\n",
              "      <td>-6.296342</td>\n",
              "      <td>6.447325</td>\n",
              "      <td>11.117162</td>\n",
              "      <td>6.812524</td>\n",
              "      <td>10.754029</td>\n",
              "      <td>6.911433</td>\n",
              "      <td>11.643237</td>\n",
              "      <td>6.246575</td>\n",
              "      <td>10.842857</td>\n",
              "      <td>2.403272</td>\n",
              "      <td>0.045981</td>\n",
              "      <td>0.508058</td>\n",
              "      <td>3.167668</td>\n",
              "      <td>0.038944</td>\n",
              "      <td>0.107163</td>\n",
              "      <td>-0.544556</td>\n",
              "      <td>3.295403</td>\n",
              "      <td>2.088119e+05</td>\n",
              "      <td>0.059054</td>\n",
              "      <td>4.533230</td>\n",
              "      <td>-0.353999</td>\n",
              "      <td>-46.793933</td>\n",
              "      <td>-32.516371</td>\n",
              "      <td>-0.145811</td>\n",
              "      <td>3.172530e+06</td>\n",
              "      <td>5.784865e+05</td>\n",
              "      <td>7.179437e+05</td>\n",
              "      <td>240.378623</td>\n",
              "      <td>4.629242</td>\n",
              "      <td>-29.018269</td>\n",
              "      <td>-4.543731</td>\n",
              "      <td>-4.464398</td>\n",
              "      <td>0.090010</td>\n",
              "      <td>-3.945952</td>\n",
              "    </tr>\n",
              "    <tr>\n",
              "      <th>std</th>\n",
              "      <td>1.325957e+09</td>\n",
              "      <td>13.259430</td>\n",
              "      <td>3.388303</td>\n",
              "      <td>8.814045</td>\n",
              "      <td>0.208063</td>\n",
              "      <td>112.414535</td>\n",
              "      <td>2.933408</td>\n",
              "      <td>18.569242</td>\n",
              "      <td>2.047790e+05</td>\n",
              "      <td>0.995430</td>\n",
              "      <td>0.284553</td>\n",
              "      <td>0.106483</td>\n",
              "      <td>0.082823</td>\n",
              "      <td>0.329961</td>\n",
              "      <td>2.455819</td>\n",
              "      <td>0.703729</td>\n",
              "      <td>0.344663</td>\n",
              "      <td>0.313391</td>\n",
              "      <td>0.187549</td>\n",
              "      <td>1.915772</td>\n",
              "      <td>2.272023</td>\n",
              "      <td>2.246642</td>\n",
              "      <td>6.653838</td>\n",
              "      <td>30.953357</td>\n",
              "      <td>89.299120</td>\n",
              "      <td>5.709076</td>\n",
              "      <td>25.640310</td>\n",
              "      <td>125.951485</td>\n",
              "      <td>5.723447</td>\n",
              "      <td>26.288955</td>\n",
              "      <td>163.299295</td>\n",
              "      <td>0.273511</td>\n",
              "      <td>0.441698</td>\n",
              "      <td>0.395854</td>\n",
              "      <td>0.054234</td>\n",
              "      <td>216.536633</td>\n",
              "      <td>12.830346</td>\n",
              "      <td>1.093195</td>\n",
              "      <td>2.476851</td>\n",
              "      <td>0.974018</td>\n",
              "      <td>2.783725</td>\n",
              "      <td>0.492962</td>\n",
              "      <td>2.908003</td>\n",
              "      <td>4.234620</td>\n",
              "      <td>2.173435</td>\n",
              "      <td>6.495612</td>\n",
              "      <td>2.277081</td>\n",
              "      <td>7.594574</td>\n",
              "      <td>2.177956</td>\n",
              "      <td>8.493166</td>\n",
              "      <td>1.507212</td>\n",
              "      <td>8.192672</td>\n",
              "      <td>11.545741</td>\n",
              "      <td>5.681854</td>\n",
              "      <td>4.199937</td>\n",
              "      <td>35.949392</td>\n",
              "      <td>3.057361</td>\n",
              "      <td>1.488881</td>\n",
              "      <td>3.122889</td>\n",
              "      <td>0.486912</td>\n",
              "      <td>1.552463e+07</td>\n",
              "      <td>0.461244</td>\n",
              "      <td>202.316386</td>\n",
              "      <td>6.835645</td>\n",
              "      <td>82.800405</td>\n",
              "      <td>121.209205</td>\n",
              "      <td>1.207861</td>\n",
              "      <td>3.021157e+07</td>\n",
              "      <td>7.077924e+06</td>\n",
              "      <td>1.014392e+07</td>\n",
              "      <td>2940.967293</td>\n",
              "      <td>2.035360</td>\n",
              "      <td>65.720119</td>\n",
              "      <td>4.543547</td>\n",
              "      <td>4.637152</td>\n",
              "      <td>0.568457</td>\n",
              "      <td>4.691325</td>\n",
              "    </tr>\n",
              "    <tr>\n",
              "      <th>min</th>\n",
              "      <td>1.970000e+11</td>\n",
              "      <td>1970.000000</td>\n",
              "      <td>0.000000</td>\n",
              "      <td>0.000000</td>\n",
              "      <td>0.000000</td>\n",
              "      <td>4.000000</td>\n",
              "      <td>1.000000</td>\n",
              "      <td>-53.154613</td>\n",
              "      <td>-8.618590e+07</td>\n",
              "      <td>1.000000</td>\n",
              "      <td>-9.000000</td>\n",
              "      <td>0.000000</td>\n",
              "      <td>0.000000</td>\n",
              "      <td>0.000000</td>\n",
              "      <td>-9.000000</td>\n",
              "      <td>1.000000</td>\n",
              "      <td>0.000000</td>\n",
              "      <td>0.000000</td>\n",
              "      <td>0.000000</td>\n",
              "      <td>1.000000</td>\n",
              "      <td>1.000000</td>\n",
              "      <td>1.000000</td>\n",
              "      <td>1.000000</td>\n",
              "      <td>1.000000</td>\n",
              "      <td>4.000000</td>\n",
              "      <td>1.000000</td>\n",
              "      <td>1.000000</td>\n",
              "      <td>4.000000</td>\n",
              "      <td>1.000000</td>\n",
              "      <td>1.000000</td>\n",
              "      <td>4.000000</td>\n",
              "      <td>0.000000</td>\n",
              "      <td>0.000000</td>\n",
              "      <td>0.000000</td>\n",
              "      <td>0.000000</td>\n",
              "      <td>-99.000000</td>\n",
              "      <td>-99.000000</td>\n",
              "      <td>-9.000000</td>\n",
              "      <td>1.000000</td>\n",
              "      <td>-9.000000</td>\n",
              "      <td>1.000000</td>\n",
              "      <td>0.000000</td>\n",
              "      <td>1.000000</td>\n",
              "      <td>-9.000000</td>\n",
              "      <td>1.000000</td>\n",
              "      <td>1.000000</td>\n",
              "      <td>1.000000</td>\n",
              "      <td>1.000000</td>\n",
              "      <td>2.000000</td>\n",
              "      <td>1.000000</td>\n",
              "      <td>5.000000</td>\n",
              "      <td>2.000000</td>\n",
              "      <td>0.000000</td>\n",
              "      <td>0.000000</td>\n",
              "      <td>0.000000</td>\n",
              "      <td>0.000000</td>\n",
              "      <td>0.000000</td>\n",
              "      <td>0.000000</td>\n",
              "      <td>-9.000000</td>\n",
              "      <td>1.000000</td>\n",
              "      <td>-9.900000e+01</td>\n",
              "      <td>-9.000000</td>\n",
              "      <td>-99.000000</td>\n",
              "      <td>-99.000000</td>\n",
              "      <td>-99.000000</td>\n",
              "      <td>-99.000000</td>\n",
              "      <td>-9.000000</td>\n",
              "      <td>-9.900000e+01</td>\n",
              "      <td>-9.900000e+01</td>\n",
              "      <td>-9.900000e+01</td>\n",
              "      <td>-99.000000</td>\n",
              "      <td>1.000000</td>\n",
              "      <td>-99.000000</td>\n",
              "      <td>-9.000000</td>\n",
              "      <td>-9.000000</td>\n",
              "      <td>-9.000000</td>\n",
              "      <td>-9.000000</td>\n",
              "    </tr>\n",
              "    <tr>\n",
              "      <th>25%</th>\n",
              "      <td>1.991021e+11</td>\n",
              "      <td>1991.000000</td>\n",
              "      <td>4.000000</td>\n",
              "      <td>8.000000</td>\n",
              "      <td>0.000000</td>\n",
              "      <td>78.000000</td>\n",
              "      <td>5.000000</td>\n",
              "      <td>11.510046</td>\n",
              "      <td>4.545640e+00</td>\n",
              "      <td>1.000000</td>\n",
              "      <td>0.000000</td>\n",
              "      <td>1.000000</td>\n",
              "      <td>1.000000</td>\n",
              "      <td>1.000000</td>\n",
              "      <td>0.000000</td>\n",
              "      <td>1.000000</td>\n",
              "      <td>0.000000</td>\n",
              "      <td>1.000000</td>\n",
              "      <td>0.000000</td>\n",
              "      <td>2.000000</td>\n",
              "      <td>2.000000</td>\n",
              "      <td>2.000000</td>\n",
              "      <td>3.000000</td>\n",
              "      <td>22.000000</td>\n",
              "      <td>83.000000</td>\n",
              "      <td>4.000000</td>\n",
              "      <td>34.000000</td>\n",
              "      <td>92.000000</td>\n",
              "      <td>3.000000</td>\n",
              "      <td>33.000000</td>\n",
              "      <td>75.000000</td>\n",
              "      <td>0.000000</td>\n",
              "      <td>0.000000</td>\n",
              "      <td>0.000000</td>\n",
              "      <td>0.000000</td>\n",
              "      <td>-99.000000</td>\n",
              "      <td>0.000000</td>\n",
              "      <td>0.000000</td>\n",
              "      <td>6.000000</td>\n",
              "      <td>0.000000</td>\n",
              "      <td>6.000000</td>\n",
              "      <td>0.000000</td>\n",
              "      <td>4.000000</td>\n",
              "      <td>-9.000000</td>\n",
              "      <td>5.000000</td>\n",
              "      <td>5.000000</td>\n",
              "      <td>5.000000</td>\n",
              "      <td>5.000000</td>\n",
              "      <td>5.000000</td>\n",
              "      <td>4.000000</td>\n",
              "      <td>5.000000</td>\n",
              "      <td>3.000000</td>\n",
              "      <td>0.000000</td>\n",
              "      <td>0.000000</td>\n",
              "      <td>0.000000</td>\n",
              "      <td>0.000000</td>\n",
              "      <td>0.000000</td>\n",
              "      <td>0.000000</td>\n",
              "      <td>0.000000</td>\n",
              "      <td>3.000000</td>\n",
              "      <td>-9.900000e+01</td>\n",
              "      <td>0.000000</td>\n",
              "      <td>1.000000</td>\n",
              "      <td>0.000000</td>\n",
              "      <td>-99.000000</td>\n",
              "      <td>-99.000000</td>\n",
              "      <td>0.000000</td>\n",
              "      <td>0.000000e+00</td>\n",
              "      <td>0.000000e+00</td>\n",
              "      <td>-9.900000e+01</td>\n",
              "      <td>0.000000</td>\n",
              "      <td>2.000000</td>\n",
              "      <td>-99.000000</td>\n",
              "      <td>-9.000000</td>\n",
              "      <td>-9.000000</td>\n",
              "      <td>0.000000</td>\n",
              "      <td>-9.000000</td>\n",
              "    </tr>\n",
              "    <tr>\n",
              "      <th>50%</th>\n",
              "      <td>2.009022e+11</td>\n",
              "      <td>2009.000000</td>\n",
              "      <td>6.000000</td>\n",
              "      <td>15.000000</td>\n",
              "      <td>0.000000</td>\n",
              "      <td>98.000000</td>\n",
              "      <td>6.000000</td>\n",
              "      <td>31.467463</td>\n",
              "      <td>4.324651e+01</td>\n",
              "      <td>1.000000</td>\n",
              "      <td>0.000000</td>\n",
              "      <td>1.000000</td>\n",
              "      <td>1.000000</td>\n",
              "      <td>1.000000</td>\n",
              "      <td>0.000000</td>\n",
              "      <td>1.000000</td>\n",
              "      <td>0.000000</td>\n",
              "      <td>1.000000</td>\n",
              "      <td>0.000000</td>\n",
              "      <td>3.000000</td>\n",
              "      <td>2.000000</td>\n",
              "      <td>7.000000</td>\n",
              "      <td>4.000000</td>\n",
              "      <td>35.000000</td>\n",
              "      <td>101.000000</td>\n",
              "      <td>14.000000</td>\n",
              "      <td>67.000000</td>\n",
              "      <td>98.000000</td>\n",
              "      <td>14.000000</td>\n",
              "      <td>67.000000</td>\n",
              "      <td>110.000000</td>\n",
              "      <td>0.000000</td>\n",
              "      <td>0.000000</td>\n",
              "      <td>0.000000</td>\n",
              "      <td>0.000000</td>\n",
              "      <td>-99.000000</td>\n",
              "      <td>0.000000</td>\n",
              "      <td>0.000000</td>\n",
              "      <td>8.000000</td>\n",
              "      <td>0.000000</td>\n",
              "      <td>7.000000</td>\n",
              "      <td>0.000000</td>\n",
              "      <td>7.000000</td>\n",
              "      <td>-9.000000</td>\n",
              "      <td>6.000000</td>\n",
              "      <td>12.000000</td>\n",
              "      <td>6.000000</td>\n",
              "      <td>7.000000</td>\n",
              "      <td>6.000000</td>\n",
              "      <td>7.000000</td>\n",
              "      <td>6.000000</td>\n",
              "      <td>9.500000</td>\n",
              "      <td>0.000000</td>\n",
              "      <td>0.000000</td>\n",
              "      <td>0.000000</td>\n",
              "      <td>0.000000</td>\n",
              "      <td>0.000000</td>\n",
              "      <td>0.000000</td>\n",
              "      <td>1.000000</td>\n",
              "      <td>3.000000</td>\n",
              "      <td>-9.900000e+01</td>\n",
              "      <td>0.000000</td>\n",
              "      <td>2.000000</td>\n",
              "      <td>0.000000</td>\n",
              "      <td>-99.000000</td>\n",
              "      <td>-99.000000</td>\n",
              "      <td>0.000000</td>\n",
              "      <td>1.500000e+04</td>\n",
              "      <td>0.000000e+00</td>\n",
              "      <td>0.000000e+00</td>\n",
              "      <td>0.000000</td>\n",
              "      <td>4.000000</td>\n",
              "      <td>0.000000</td>\n",
              "      <td>-9.000000</td>\n",
              "      <td>-9.000000</td>\n",
              "      <td>0.000000</td>\n",
              "      <td>0.000000</td>\n",
              "    </tr>\n",
              "    <tr>\n",
              "      <th>75%</th>\n",
              "      <td>2.014081e+11</td>\n",
              "      <td>2014.000000</td>\n",
              "      <td>9.000000</td>\n",
              "      <td>23.000000</td>\n",
              "      <td>0.000000</td>\n",
              "      <td>160.000000</td>\n",
              "      <td>10.000000</td>\n",
              "      <td>34.685087</td>\n",
              "      <td>6.871033e+01</td>\n",
              "      <td>1.000000</td>\n",
              "      <td>0.000000</td>\n",
              "      <td>1.000000</td>\n",
              "      <td>1.000000</td>\n",
              "      <td>1.000000</td>\n",
              "      <td>0.000000</td>\n",
              "      <td>1.000000</td>\n",
              "      <td>0.000000</td>\n",
              "      <td>1.000000</td>\n",
              "      <td>0.000000</td>\n",
              "      <td>3.000000</td>\n",
              "      <td>7.000000</td>\n",
              "      <td>7.000000</td>\n",
              "      <td>14.000000</td>\n",
              "      <td>74.000000</td>\n",
              "      <td>173.000000</td>\n",
              "      <td>14.000000</td>\n",
              "      <td>69.000000</td>\n",
              "      <td>182.000000</td>\n",
              "      <td>14.000000</td>\n",
              "      <td>73.000000</td>\n",
              "      <td>182.000000</td>\n",
              "      <td>0.000000</td>\n",
              "      <td>1.000000</td>\n",
              "      <td>0.000000</td>\n",
              "      <td>0.000000</td>\n",
              "      <td>1.000000</td>\n",
              "      <td>0.000000</td>\n",
              "      <td>0.000000</td>\n",
              "      <td>8.000000</td>\n",
              "      <td>1.000000</td>\n",
              "      <td>10.000000</td>\n",
              "      <td>1.000000</td>\n",
              "      <td>9.000000</td>\n",
              "      <td>0.000000</td>\n",
              "      <td>6.000000</td>\n",
              "      <td>16.000000</td>\n",
              "      <td>8.000000</td>\n",
              "      <td>18.000000</td>\n",
              "      <td>9.000000</td>\n",
              "      <td>20.000000</td>\n",
              "      <td>6.000000</td>\n",
              "      <td>16.000000</td>\n",
              "      <td>2.000000</td>\n",
              "      <td>0.000000</td>\n",
              "      <td>0.000000</td>\n",
              "      <td>2.000000</td>\n",
              "      <td>0.000000</td>\n",
              "      <td>0.000000</td>\n",
              "      <td>1.000000</td>\n",
              "      <td>4.000000</td>\n",
              "      <td>1.000000e+03</td>\n",
              "      <td>0.000000</td>\n",
              "      <td>4.000000</td>\n",
              "      <td>0.000000</td>\n",
              "      <td>0.000000</td>\n",
              "      <td>4.000000</td>\n",
              "      <td>0.000000</td>\n",
              "      <td>4.000000e+05</td>\n",
              "      <td>0.000000e+00</td>\n",
              "      <td>1.273412e+03</td>\n",
              "      <td>0.000000</td>\n",
              "      <td>7.000000</td>\n",
              "      <td>1.000000</td>\n",
              "      <td>0.000000</td>\n",
              "      <td>0.000000</td>\n",
              "      <td>0.000000</td>\n",
              "      <td>0.000000</td>\n",
              "    </tr>\n",
              "    <tr>\n",
              "      <th>max</th>\n",
              "      <td>2.017123e+11</td>\n",
              "      <td>2017.000000</td>\n",
              "      <td>12.000000</td>\n",
              "      <td>31.000000</td>\n",
              "      <td>1.000000</td>\n",
              "      <td>1004.000000</td>\n",
              "      <td>12.000000</td>\n",
              "      <td>74.633553</td>\n",
              "      <td>1.793667e+02</td>\n",
              "      <td>5.000000</td>\n",
              "      <td>1.000000</td>\n",
              "      <td>1.000000</td>\n",
              "      <td>1.000000</td>\n",
              "      <td>1.000000</td>\n",
              "      <td>1.000000</td>\n",
              "      <td>5.000000</td>\n",
              "      <td>1.000000</td>\n",
              "      <td>1.000000</td>\n",
              "      <td>1.000000</td>\n",
              "      <td>9.000000</td>\n",
              "      <td>9.000000</td>\n",
              "      <td>8.000000</td>\n",
              "      <td>22.000000</td>\n",
              "      <td>113.000000</td>\n",
              "      <td>1004.000000</td>\n",
              "      <td>22.000000</td>\n",
              "      <td>113.000000</td>\n",
              "      <td>1004.000000</td>\n",
              "      <td>22.000000</td>\n",
              "      <td>113.000000</td>\n",
              "      <td>1004.000000</td>\n",
              "      <td>1.000000</td>\n",
              "      <td>1.000000</td>\n",
              "      <td>1.000000</td>\n",
              "      <td>1.000000</td>\n",
              "      <td>25000.000000</td>\n",
              "      <td>406.000000</td>\n",
              "      <td>1.000000</td>\n",
              "      <td>10.000000</td>\n",
              "      <td>1.000000</td>\n",
              "      <td>10.000000</td>\n",
              "      <td>1.000000</td>\n",
              "      <td>10.000000</td>\n",
              "      <td>1.000000</td>\n",
              "      <td>13.000000</td>\n",
              "      <td>31.000000</td>\n",
              "      <td>13.000000</td>\n",
              "      <td>31.000000</td>\n",
              "      <td>13.000000</td>\n",
              "      <td>28.000000</td>\n",
              "      <td>12.000000</td>\n",
              "      <td>28.000000</td>\n",
              "      <td>1570.000000</td>\n",
              "      <td>1360.000000</td>\n",
              "      <td>500.000000</td>\n",
              "      <td>8191.000000</td>\n",
              "      <td>751.000000</td>\n",
              "      <td>200.000000</td>\n",
              "      <td>1.000000</td>\n",
              "      <td>4.000000</td>\n",
              "      <td>2.700000e+09</td>\n",
              "      <td>1.000000</td>\n",
              "      <td>17000.000000</td>\n",
              "      <td>86.000000</td>\n",
              "      <td>999.000000</td>\n",
              "      <td>2454.000000</td>\n",
              "      <td>1.000000</td>\n",
              "      <td>1.000000e+09</td>\n",
              "      <td>1.320000e+08</td>\n",
              "      <td>2.750000e+08</td>\n",
              "      <td>48000.000000</td>\n",
              "      <td>7.000000</td>\n",
              "      <td>2769.000000</td>\n",
              "      <td>1.000000</td>\n",
              "      <td>1.000000</td>\n",
              "      <td>1.000000</td>\n",
              "      <td>1.000000</td>\n",
              "    </tr>\n",
              "  </tbody>\n",
              "</table>\n",
              "</div>"
            ],
            "text/plain": [
              "            eventid          iyear  ...       INT_MISC        INT_ANY\n",
              "count  1.816910e+05  181691.000000  ...  181691.000000  181691.000000\n",
              "mean   2.002705e+11    2002.638997  ...       0.090010      -3.945952\n",
              "std    1.325957e+09      13.259430  ...       0.568457       4.691325\n",
              "min    1.970000e+11    1970.000000  ...      -9.000000      -9.000000\n",
              "25%    1.991021e+11    1991.000000  ...       0.000000      -9.000000\n",
              "50%    2.009022e+11    2009.000000  ...       0.000000       0.000000\n",
              "75%    2.014081e+11    2014.000000  ...       0.000000       0.000000\n",
              "max    2.017123e+11    2017.000000  ...       1.000000       1.000000\n",
              "\n",
              "[8 rows x 77 columns]"
            ]
          },
          "metadata": {
            "tags": []
          },
          "execution_count": 5
        }
      ]
    },
    {
      "cell_type": "code",
      "metadata": {
        "id": "KntIPRy2VUYo",
        "colab_type": "code",
        "outputId": "489da3a7-6f31-4532-affe-7014665800ea",
        "colab": {
          "base_uri": "https://localhost:8080/",
          "height": 1000
        }
      },
      "source": [
        "# Let's see how many NAN we have\n",
        "gbtm_data_hdf.isna().sum()"
      ],
      "execution_count": 0,
      "outputs": [
        {
          "output_type": "execute_result",
          "data": {
            "text/plain": [
              "eventid                    0\n",
              "iyear                      0\n",
              "imonth                     0\n",
              "iday                       0\n",
              "approxdate            172452\n",
              "extended                   0\n",
              "resolution            179471\n",
              "country                    0\n",
              "country_txt                0\n",
              "region                     0\n",
              "region_txt                 0\n",
              "provstate                421\n",
              "city                     434\n",
              "latitude                4556\n",
              "longitude               4557\n",
              "specificity                6\n",
              "vicinity                   0\n",
              "location              126196\n",
              "summary                66129\n",
              "crit1                      0\n",
              "crit2                      0\n",
              "crit3                      0\n",
              "doubtterr                  1\n",
              "alternative           152680\n",
              "alternative_txt       152680\n",
              "multiple                   1\n",
              "success                    0\n",
              "suicide                    0\n",
              "attacktype1                0\n",
              "attacktype1_txt            0\n",
              "                       ...  \n",
              "propextent            117626\n",
              "propextent_txt        117626\n",
              "propvalue             142702\n",
              "propcomment           123732\n",
              "ishostkid                178\n",
              "nhostkid              168119\n",
              "nhostkidus            168174\n",
              "nhours                177628\n",
              "ndays                 173567\n",
              "divert                181367\n",
              "kidhijcountry         178386\n",
              "ransom                104310\n",
              "ransomamt             180341\n",
              "ransomamtus           181128\n",
              "ransompaid            180917\n",
              "ransompaidus          181139\n",
              "ransomnote            181177\n",
              "hostkidoutcome        170700\n",
              "hostkidoutcome_txt    170700\n",
              "nreleased             171291\n",
              "addnotes              153402\n",
              "scite1                 66191\n",
              "scite2                104758\n",
              "scite3                138175\n",
              "dbsource                   0\n",
              "INT_LOG                    0\n",
              "INT_IDEO                   0\n",
              "INT_MISC                   0\n",
              "INT_ANY                    0\n",
              "related               156653\n",
              "Length: 135, dtype: int64"
            ]
          },
          "metadata": {
            "tags": []
          },
          "execution_count": 6
        }
      ]
    },
    {
      "cell_type": "code",
      "metadata": {
        "id": "nvugH3WzWfIk",
        "colab_type": "code",
        "outputId": "193eab19-6769-4200-b677-0355dbe0c560",
        "colab": {
          "base_uri": "https://localhost:8080/",
          "height": 35
        }
      },
      "source": [
        "# Oh, holy, missing a damn lot!!! clean this dataset??? \n",
        "# Drop na will significantly affect the result to the point of having no data at all\n",
        "# Fill na??? with what value???\n",
        "# Well let's just say the best approach for now is to let the dataset as it be\n",
        "# Maybe stick with exploring a bit longer\n",
        "gbtm_data_hdf.shape"
      ],
      "execution_count": 0,
      "outputs": [
        {
          "output_type": "execute_result",
          "data": {
            "text/plain": [
              "(181691, 135)"
            ]
          },
          "metadata": {
            "tags": []
          },
          "execution_count": 7
        }
      ]
    },
    {
      "cell_type": "code",
      "metadata": {
        "id": "xZMQnszCXbpo",
        "colab_type": "code",
        "outputId": "31711863-7cc6-4e70-8d53-f83da62b29a0",
        "colab": {
          "base_uri": "https://localhost:8080/",
          "height": 55
        }
      },
      "source": [
        "\n",
        "print([col for col in gbtm_data_hdf.columns])\n"
      ],
      "execution_count": 0,
      "outputs": [
        {
          "output_type": "stream",
          "text": [
            "['eventid', 'iyear', 'imonth', 'iday', 'approxdate', 'extended', 'resolution', 'country', 'country_txt', 'region', 'region_txt', 'provstate', 'city', 'latitude', 'longitude', 'specificity', 'vicinity', 'location', 'summary', 'crit1', 'crit2', 'crit3', 'doubtterr', 'alternative', 'alternative_txt', 'multiple', 'success', 'suicide', 'attacktype1', 'attacktype1_txt', 'attacktype2', 'attacktype2_txt', 'attacktype3', 'attacktype3_txt', 'targtype1', 'targtype1_txt', 'targsubtype1', 'targsubtype1_txt', 'corp1', 'target1', 'natlty1', 'natlty1_txt', 'targtype2', 'targtype2_txt', 'targsubtype2', 'targsubtype2_txt', 'corp2', 'target2', 'natlty2', 'natlty2_txt', 'targtype3', 'targtype3_txt', 'targsubtype3', 'targsubtype3_txt', 'corp3', 'target3', 'natlty3', 'natlty3_txt', 'gname', 'gsubname', 'gname2', 'gsubname2', 'gname3', 'gsubname3', 'motive', 'guncertain1', 'guncertain2', 'guncertain3', 'individual', 'nperps', 'nperpcap', 'claimed', 'claimmode', 'claimmode_txt', 'claim2', 'claimmode2', 'claimmode2_txt', 'claim3', 'claimmode3', 'claimmode3_txt', 'compclaim', 'weaptype1', 'weaptype1_txt', 'weapsubtype1', 'weapsubtype1_txt', 'weaptype2', 'weaptype2_txt', 'weapsubtype2', 'weapsubtype2_txt', 'weaptype3', 'weaptype3_txt', 'weapsubtype3', 'weapsubtype3_txt', 'weaptype4', 'weaptype4_txt', 'weapsubtype4', 'weapsubtype4_txt', 'weapdetail', 'nkill', 'nkillus', 'nkillter', 'nwound', 'nwoundus', 'nwoundte', 'property', 'propextent', 'propextent_txt', 'propvalue', 'propcomment', 'ishostkid', 'nhostkid', 'nhostkidus', 'nhours', 'ndays', 'divert', 'kidhijcountry', 'ransom', 'ransomamt', 'ransomamtus', 'ransompaid', 'ransompaidus', 'ransomnote', 'hostkidoutcome', 'hostkidoutcome_txt', 'nreleased', 'addnotes', 'scite1', 'scite2', 'scite3', 'dbsource', 'INT_LOG', 'INT_IDEO', 'INT_MISC', 'INT_ANY', 'related']\n"
          ],
          "name": "stdout"
        }
      ]
    },
    {
      "cell_type": "code",
      "metadata": {
        "id": "AFW1ma8OYZhL",
        "colab_type": "code",
        "outputId": "2f774143-1528-4491-a799-058e13b1ecf9",
        "colab": {
          "base_uri": "https://localhost:8080/",
          "height": 332
        }
      },
      "source": [
        "# Well sht, can't make head or tail with this dataset, better to take a look at the dataset description\n",
        "# link: https://www.start.umd.edu/gtd/downloads/Codebook.pdf\n",
        "# We are interested in weapon, attack type, region occured\n",
        "gbtm_data_hdf[[\"attacktype1\", \"attacktype1_txt\"]].drop_duplicates().sort_values(by='attacktype1')\n",
        "# The information of attack type code and text can be read in the link.\n",
        "# However, for those do not have much time to read, better show the result here"
      ],
      "execution_count": 0,
      "outputs": [
        {
          "output_type": "execute_result",
          "data": {
            "text/html": [
              "<div>\n",
              "<style scoped>\n",
              "    .dataframe tbody tr th:only-of-type {\n",
              "        vertical-align: middle;\n",
              "    }\n",
              "\n",
              "    .dataframe tbody tr th {\n",
              "        vertical-align: top;\n",
              "    }\n",
              "\n",
              "    .dataframe thead th {\n",
              "        text-align: right;\n",
              "    }\n",
              "</style>\n",
              "<table border=\"1\" class=\"dataframe\">\n",
              "  <thead>\n",
              "    <tr style=\"text-align: right;\">\n",
              "      <th></th>\n",
              "      <th>attacktype1</th>\n",
              "      <th>attacktype1_txt</th>\n",
              "    </tr>\n",
              "  </thead>\n",
              "  <tbody>\n",
              "    <tr>\n",
              "      <th>0</th>\n",
              "      <td>1</td>\n",
              "      <td>Assassination</td>\n",
              "    </tr>\n",
              "    <tr>\n",
              "      <th>5</th>\n",
              "      <td>2</td>\n",
              "      <td>Armed Assault</td>\n",
              "    </tr>\n",
              "    <tr>\n",
              "      <th>3</th>\n",
              "      <td>3</td>\n",
              "      <td>Bombing/Explosion</td>\n",
              "    </tr>\n",
              "    <tr>\n",
              "      <th>12</th>\n",
              "      <td>4</td>\n",
              "      <td>Hijacking</td>\n",
              "    </tr>\n",
              "    <tr>\n",
              "      <th>336</th>\n",
              "      <td>5</td>\n",
              "      <td>Hostage Taking (Barricade Incident)</td>\n",
              "    </tr>\n",
              "    <tr>\n",
              "      <th>1</th>\n",
              "      <td>6</td>\n",
              "      <td>Hostage Taking (Kidnapping)</td>\n",
              "    </tr>\n",
              "    <tr>\n",
              "      <th>4</th>\n",
              "      <td>7</td>\n",
              "      <td>Facility/Infrastructure Attack</td>\n",
              "    </tr>\n",
              "    <tr>\n",
              "      <th>298</th>\n",
              "      <td>8</td>\n",
              "      <td>Unarmed Assault</td>\n",
              "    </tr>\n",
              "    <tr>\n",
              "      <th>16</th>\n",
              "      <td>9</td>\n",
              "      <td>Unknown</td>\n",
              "    </tr>\n",
              "  </tbody>\n",
              "</table>\n",
              "</div>"
            ],
            "text/plain": [
              "     attacktype1                      attacktype1_txt\n",
              "0              1                        Assassination\n",
              "5              2                        Armed Assault\n",
              "3              3                    Bombing/Explosion\n",
              "12             4                            Hijacking\n",
              "336            5  Hostage Taking (Barricade Incident)\n",
              "1              6          Hostage Taking (Kidnapping)\n",
              "4              7       Facility/Infrastructure Attack\n",
              "298            8                      Unarmed Assault\n",
              "16             9                              Unknown"
            ]
          },
          "metadata": {
            "tags": []
          },
          "execution_count": 9
        }
      ]
    },
    {
      "cell_type": "code",
      "metadata": {
        "id": "eJ87y3mb8wf0",
        "colab_type": "code",
        "outputId": "8be99f79-a857-4394-b89d-78ca3ffaaed9",
        "colab": {
          "base_uri": "https://localhost:8080/",
          "height": 201
        }
      },
      "source": [
        "# Let's see what kind of attack occur the most\n",
        "gbtm_data_hdf['attacktype1_txt'].value_counts()"
      ],
      "execution_count": 0,
      "outputs": [
        {
          "output_type": "execute_result",
          "data": {
            "text/plain": [
              "Bombing/Explosion                      88255\n",
              "Armed Assault                          42669\n",
              "Assassination                          19312\n",
              "Hostage Taking (Kidnapping)            11158\n",
              "Facility/Infrastructure Attack         10356\n",
              "Unknown                                 7276\n",
              "Unarmed Assault                         1015\n",
              "Hostage Taking (Barricade Incident)      991\n",
              "Hijacking                                659\n",
              "Name: attacktype1_txt, dtype: int64"
            ]
          },
          "metadata": {
            "tags": []
          },
          "execution_count": 10
        }
      ]
    },
    {
      "cell_type": "code",
      "metadata": {
        "id": "m-9TEiPp9QQx",
        "colab_type": "code",
        "outputId": "565dbdff-2680-4666-d31e-8da14a634287",
        "colab": {
          "base_uri": "https://localhost:8080/",
          "height": 461
        }
      },
      "source": [
        "# Well, that should be enough to know what type is most prefered\n",
        "# Still let's just go having graph to better present it\n",
        "\n",
        "color = sns.color_palette()\n",
        "ax = gbtm_data_hdf['attacktype1_txt'].value_counts().plot('bar',color=color[0],figsize=(15,6))\n",
        "ax.set_xlabel('Attack type',fontsize=15)\n",
        "ax.set_ylabel('Number of occurance',fontsize=15)\n",
        "ax.set_title('Number of occurance of attack type',fontsize=15)\n",
        "ax.set_xticklabels(('Bombing/Explosion', 'Armed Assault', 'Assassination',\n",
        "                    'Hostage Taking (Kidnapping)', 'Facility/Infrastructure Attack',\n",
        "                    'Unknown', 'Unarmed Assault', 'Hostage Taking (Barricade Incident)',\n",
        "                    'Hijacking'), rotation='horizontal', fontsize=12)\n",
        "plt.setp(ax.get_xticklabels(), rotation=30, horizontalalignment='right')\n",
        "plt.tight_layout()\n",
        "plt.show()"
      ],
      "execution_count": 0,
      "outputs": [
        {
          "output_type": "display_data",
          "data": {
            "image/png": "[encoded data removed]",
            "text/plain": [
              "<Figure size 1080x432 with 1 Axes>"
            ]
          },
          "metadata": {
            "tags": []
          }
        }
      ]
    },
    {
      "cell_type": "code",
      "metadata": {
        "id": "gEP0U-L9lO-E",
        "colab_type": "code",
        "outputId": "bc4c2f16-1d02-40e1-8cd9-6b42b2b9e974",
        "colab": {
          "base_uri": "https://localhost:8080/",
          "height": 426
        }
      },
      "source": [
        "gbtm_data_hdf[[\"region\", \"region_txt\"]].drop_duplicates().sort_values(by='region')"
      ],
      "execution_count": 0,
      "outputs": [
        {
          "output_type": "execute_result",
          "data": {
            "text/html": [
              "<div>\n",
              "<style scoped>\n",
              "    .dataframe tbody tr th:only-of-type {\n",
              "        vertical-align: middle;\n",
              "    }\n",
              "\n",
              "    .dataframe tbody tr th {\n",
              "        vertical-align: top;\n",
              "    }\n",
              "\n",
              "    .dataframe thead th {\n",
              "        text-align: right;\n",
              "    }\n",
              "</style>\n",
              "<table border=\"1\" class=\"dataframe\">\n",
              "  <thead>\n",
              "    <tr style=\"text-align: right;\">\n",
              "      <th></th>\n",
              "      <th>region</th>\n",
              "      <th>region_txt</th>\n",
              "    </tr>\n",
              "  </thead>\n",
              "  <tbody>\n",
              "    <tr>\n",
              "      <th>1</th>\n",
              "      <td>1</td>\n",
              "      <td>North America</td>\n",
              "    </tr>\n",
              "    <tr>\n",
              "      <th>0</th>\n",
              "      <td>2</td>\n",
              "      <td>Central America &amp; Caribbean</td>\n",
              "    </tr>\n",
              "    <tr>\n",
              "      <th>6</th>\n",
              "      <td>3</td>\n",
              "      <td>South America</td>\n",
              "    </tr>\n",
              "    <tr>\n",
              "      <th>4</th>\n",
              "      <td>4</td>\n",
              "      <td>East Asia</td>\n",
              "    </tr>\n",
              "    <tr>\n",
              "      <th>2</th>\n",
              "      <td>5</td>\n",
              "      <td>Southeast Asia</td>\n",
              "    </tr>\n",
              "    <tr>\n",
              "      <th>585</th>\n",
              "      <td>6</td>\n",
              "      <td>South Asia</td>\n",
              "    </tr>\n",
              "    <tr>\n",
              "      <th>47639</th>\n",
              "      <td>7</td>\n",
              "      <td>Central Asia</td>\n",
              "    </tr>\n",
              "    <tr>\n",
              "      <th>3</th>\n",
              "      <td>8</td>\n",
              "      <td>Western Europe</td>\n",
              "    </tr>\n",
              "    <tr>\n",
              "      <th>15</th>\n",
              "      <td>9</td>\n",
              "      <td>Eastern Europe</td>\n",
              "    </tr>\n",
              "    <tr>\n",
              "      <th>95</th>\n",
              "      <td>10</td>\n",
              "      <td>Middle East &amp; North Africa</td>\n",
              "    </tr>\n",
              "    <tr>\n",
              "      <th>16</th>\n",
              "      <td>11</td>\n",
              "      <td>Sub-Saharan Africa</td>\n",
              "    </tr>\n",
              "    <tr>\n",
              "      <th>565</th>\n",
              "      <td>12</td>\n",
              "      <td>Australasia &amp; Oceania</td>\n",
              "    </tr>\n",
              "  </tbody>\n",
              "</table>\n",
              "</div>"
            ],
            "text/plain": [
              "       region                   region_txt\n",
              "1           1                North America\n",
              "0           2  Central America & Caribbean\n",
              "6           3                South America\n",
              "4           4                    East Asia\n",
              "2           5               Southeast Asia\n",
              "585         6                   South Asia\n",
              "47639       7                 Central Asia\n",
              "3           8               Western Europe\n",
              "15          9               Eastern Europe\n",
              "95         10   Middle East & North Africa\n",
              "16         11           Sub-Saharan Africa\n",
              "565        12        Australasia & Oceania"
            ]
          },
          "metadata": {
            "tags": []
          },
          "execution_count": 12
        }
      ]
    },
    {
      "cell_type": "code",
      "metadata": {
        "id": "lESZFJgclsVh",
        "colab_type": "code",
        "outputId": "579a7215-0ebf-45e9-a99f-f65bb4f09c28",
        "colab": {
          "base_uri": "https://localhost:8080/",
          "height": 256
        }
      },
      "source": [
        "# Let's see what region terrorists focus the most\n",
        "gbtm_data_hdf['region_txt'].value_counts()"
      ],
      "execution_count": 0,
      "outputs": [
        {
          "output_type": "execute_result",
          "data": {
            "text/plain": [
              "Middle East & North Africa     50474\n",
              "South Asia                     44974\n",
              "South America                  18978\n",
              "Sub-Saharan Africa             17550\n",
              "Western Europe                 16639\n",
              "Southeast Asia                 12485\n",
              "Central America & Caribbean    10344\n",
              "Eastern Europe                  5144\n",
              "North America                   3456\n",
              "East Asia                        802\n",
              "Central Asia                     563\n",
              "Australasia & Oceania            282\n",
              "Name: region_txt, dtype: int64"
            ]
          },
          "metadata": {
            "tags": []
          },
          "execution_count": 13
        }
      ]
    },
    {
      "cell_type": "code",
      "metadata": {
        "id": "wHS0O4all49L",
        "colab_type": "code",
        "outputId": "82e12bb2-e05d-408b-e673-069f5ecce1df",
        "colab": {
          "base_uri": "https://localhost:8080/",
          "height": 461
        }
      },
      "source": [
        "ax = gbtm_data_hdf['region_txt'].value_counts().plot('bar',color=color[3],figsize=(15,6))\n",
        "ax.set_xlabel('Region',fontsize=15)\n",
        "ax.set_ylabel('Number of occurance',fontsize=15)\n",
        "ax.set_title('Number of occurance of terrorism in all regions',fontsize=15)\n",
        "ax.set_xticklabels(('Middle East & North Africa', 'South Asia', 'South America',\n",
        "                    'Sub-Saharan Africa', 'Western Europe', 'Southeast Asia'\n",
        "                    'Central America & Caribbean', 'Eastern Europe',\n",
        "                    'North America', 'East Asia', 'Central Asia', \n",
        "                    'Australasia & Oceania'), rotation='horizontal', fontsize=12)\n",
        "plt.setp(ax.get_xticklabels(), rotation=30, horizontalalignment='right')\n",
        "plt.tight_layout()\n",
        "plt.show()"
      ],
      "execution_count": 0,
      "outputs": [
        {
          "output_type": "display_data",
          "data": {
            "image/png": "[encoded data removed]",
            "text/plain": [
              "<Figure size 1080x432 with 1 Axes>"
            ]
          },
          "metadata": {
            "tags": []
          }
        }
      ]
    },
    {
      "cell_type": "code",
      "metadata": {
        "id": "6NajnMT7pNwd",
        "colab_type": "code",
        "outputId": "f776e5fa-38fb-42b7-bed1-11a3d2f43d19",
        "colab": {
          "base_uri": "https://localhost:8080/",
          "height": 426
        }
      },
      "source": [
        "gbtm_data_hdf[['weaptype1', 'weaptype1_txt']].drop_duplicates().sort_values(by = 'weaptype1')"
      ],
      "execution_count": 0,
      "outputs": [
        {
          "output_type": "execute_result",
          "data": {
            "text/html": [
              "<div>\n",
              "<style scoped>\n",
              "    .dataframe tbody tr th:only-of-type {\n",
              "        vertical-align: middle;\n",
              "    }\n",
              "\n",
              "    .dataframe tbody tr th {\n",
              "        vertical-align: top;\n",
              "    }\n",
              "\n",
              "    .dataframe thead th {\n",
              "        text-align: right;\n",
              "    }\n",
              "</style>\n",
              "<table border=\"1\" class=\"dataframe\">\n",
              "  <thead>\n",
              "    <tr style=\"text-align: right;\">\n",
              "      <th></th>\n",
              "      <th>weaptype1</th>\n",
              "      <th>weaptype1_txt</th>\n",
              "    </tr>\n",
              "  </thead>\n",
              "  <tbody>\n",
              "    <tr>\n",
              "      <th>14520</th>\n",
              "      <td>1</td>\n",
              "      <td>Biological</td>\n",
              "    </tr>\n",
              "    <tr>\n",
              "      <th>116</th>\n",
              "      <td>2</td>\n",
              "      <td>Chemical</td>\n",
              "    </tr>\n",
              "    <tr>\n",
              "      <th>2342</th>\n",
              "      <td>3</td>\n",
              "      <td>Radiological</td>\n",
              "    </tr>\n",
              "    <tr>\n",
              "      <th>5</th>\n",
              "      <td>5</td>\n",
              "      <td>Firearms</td>\n",
              "    </tr>\n",
              "    <tr>\n",
              "      <th>3</th>\n",
              "      <td>6</td>\n",
              "      <td>Explosives</td>\n",
              "    </tr>\n",
              "    <tr>\n",
              "      <th>1325</th>\n",
              "      <td>7</td>\n",
              "      <td>Fake Weapons</td>\n",
              "    </tr>\n",
              "    <tr>\n",
              "      <th>4</th>\n",
              "      <td>8</td>\n",
              "      <td>Incendiary</td>\n",
              "    </tr>\n",
              "    <tr>\n",
              "      <th>298</th>\n",
              "      <td>9</td>\n",
              "      <td>Melee</td>\n",
              "    </tr>\n",
              "    <tr>\n",
              "      <th>585</th>\n",
              "      <td>10</td>\n",
              "      <td>Vehicle (not to include vehicle-borne explosiv...</td>\n",
              "    </tr>\n",
              "    <tr>\n",
              "      <th>314</th>\n",
              "      <td>11</td>\n",
              "      <td>Sabotage Equipment</td>\n",
              "    </tr>\n",
              "    <tr>\n",
              "      <th>3691</th>\n",
              "      <td>12</td>\n",
              "      <td>Other</td>\n",
              "    </tr>\n",
              "    <tr>\n",
              "      <th>0</th>\n",
              "      <td>13</td>\n",
              "      <td>Unknown</td>\n",
              "    </tr>\n",
              "  </tbody>\n",
              "</table>\n",
              "</div>"
            ],
            "text/plain": [
              "       weaptype1                                      weaptype1_txt\n",
              "14520          1                                         Biological\n",
              "116            2                                           Chemical\n",
              "2342           3                                       Radiological\n",
              "5              5                                           Firearms\n",
              "3              6                                         Explosives\n",
              "1325           7                                       Fake Weapons\n",
              "4              8                                         Incendiary\n",
              "298            9                                              Melee\n",
              "585           10  Vehicle (not to include vehicle-borne explosiv...\n",
              "314           11                                 Sabotage Equipment\n",
              "3691          12                                              Other\n",
              "0             13                                            Unknown"
            ]
          },
          "metadata": {
            "tags": []
          },
          "execution_count": 15
        }
      ]
    },
    {
      "cell_type": "code",
      "metadata": {
        "id": "ssF-LzdgqIFd",
        "colab_type": "code",
        "outputId": "01f301dc-59d6-48e6-a952-84308799b5b0",
        "colab": {
          "base_uri": "https://localhost:8080/",
          "height": 256
        }
      },
      "source": [
        "gbtm_data_hdf['weaptype1_txt'].value_counts()"
      ],
      "execution_count": 0,
      "outputs": [
        {
          "output_type": "execute_result",
          "data": {
            "text/plain": [
              "Explosives                                                                     92426\n",
              "Firearms                                                                       58524\n",
              "Unknown                                                                        15157\n",
              "Incendiary                                                                     11135\n",
              "Melee                                                                           3655\n",
              "Chemical                                                                         321\n",
              "Sabotage Equipment                                                               141\n",
              "Vehicle (not to include vehicle-borne explosives, i.e., car or truck bombs)      136\n",
              "Other                                                                            114\n",
              "Biological                                                                        35\n",
              "Fake Weapons                                                                      33\n",
              "Radiological                                                                      14\n",
              "Name: weaptype1_txt, dtype: int64"
            ]
          },
          "metadata": {
            "tags": []
          },
          "execution_count": 16
        }
      ]
    },
    {
      "cell_type": "code",
      "metadata": {
        "id": "9K7_8jNLquRP",
        "colab_type": "code",
        "outputId": "32dadeef-1af4-43cc-94de-0ff4eb7043b9",
        "colab": {
          "base_uri": "https://localhost:8080/",
          "height": 461
        }
      },
      "source": [
        "ax = gbtm_data_hdf['weaptype1_txt'].value_counts().plot('bar',color=color[7],figsize=(15,6))\n",
        "ax.set_xlabel('Weapon type',fontsize=15)\n",
        "ax.set_ylabel('Number of occurance',fontsize=15)\n",
        "ax.set_title('Number of occurance of weapon type used in terrorism',fontsize=15)\n",
        "ax.set_xticklabels(('Explosives', 'Firearms', 'Unknown',\n",
        "                    'Incendiary', 'Melee', 'Chemical', 'Sabotage Equipment',\n",
        "                    'Vehicle (not to include vehicle-borne explosives, i.e., car or truck bombs)',\n",
        "                    'Other', 'Biological', 'Fake Weapons', \n",
        "                    'Radiological'), rotation='horizontal', fontsize=12)\n",
        "plt.setp(ax.get_xticklabels(), rotation=30, horizontalalignment='right')\n",
        "plt.tight_layout()\n",
        "plt.show()"
      ],
      "execution_count": 0,
      "outputs": [
        {
          "output_type": "display_data",
          "data": {
            "image/png": "[encoded data removed]",
            "text/plain": [
              "<Figure size 1080x432 with 1 Axes>"
            ]
          },
          "metadata": {
            "tags": []
          }
        }
      ]
    },
    {
      "cell_type": "code",
      "metadata": {
        "id": "iY6XtmwrHF--",
        "colab_type": "code",
        "outputId": "06b28bf0-6fcc-4b0d-862f-d6ab4644c725",
        "colab": {
          "base_uri": "https://localhost:8080/",
          "height": 109
        }
      },
      "source": [
        "# Explosives is the most prefered weapons, maybe because it bring great destruction power\n",
        "# This may related to number of victim kills and wounds\n",
        "# Let's find out\n",
        "casualties_data = gbtm_data_hdf[['nkill', 'nwound','attacktype1','attacktype1_txt']]\n",
        "casualties_data.isna().sum()"
      ],
      "execution_count": 0,
      "outputs": [
        {
          "output_type": "execute_result",
          "data": {
            "text/plain": [
              "nkill              10313\n",
              "nwound             16311\n",
              "attacktype1            0\n",
              "attacktype1_txt        0\n",
              "dtype: int64"
            ]
          },
          "metadata": {
            "tags": []
          },
          "execution_count": 18
        }
      ]
    },
    {
      "cell_type": "code",
      "metadata": {
        "id": "wpW4jnXBAbXu",
        "colab_type": "code",
        "colab": {}
      },
      "source": [
        "# Well compare to around 180000 records, the number could be said to be relative small\n",
        "# It's much better if we could fill these missing data\n",
        "# However, these 2 fields require accurate data which we can not hope to collect and fill\n",
        "# Better drop all these values\n",
        "casualties_data_nona = casualties_data.dropna()"
      ],
      "execution_count": 0,
      "outputs": []
    },
    {
      "cell_type": "code",
      "metadata": {
        "id": "1D07vZjXA-Iu",
        "colab_type": "code",
        "outputId": "871ef80e-950b-4819-b481-4e67e3d49d53",
        "colab": {
          "base_uri": "https://localhost:8080/",
          "height": 109
        }
      },
      "source": [
        "# check again\n",
        "casualties_data_nona.isna().sum()"
      ],
      "execution_count": 0,
      "outputs": [
        {
          "output_type": "execute_result",
          "data": {
            "text/plain": [
              "nkill              0\n",
              "nwound             0\n",
              "attacktype1        0\n",
              "attacktype1_txt    0\n",
              "dtype: int64"
            ]
          },
          "metadata": {
            "tags": []
          },
          "execution_count": 20
        }
      ]
    },
    {
      "cell_type": "code",
      "metadata": {
        "id": "1Fvnwa4LDPSc",
        "colab_type": "code",
        "outputId": "67114bb8-fcbb-420d-bb88-1e29aa94e39d",
        "colab": {
          "base_uri": "https://localhost:8080/",
          "height": 153
        }
      },
      "source": [
        "# Let's make a pivot table which will summarize number of casualties based on attack types\n",
        "casualties_kill_summarize = casualties_data_nona.pivot_table(columns='attacktype1_txt', values='nkill', aggfunc='sum')\n",
        "casualties_kill_summarize"
      ],
      "execution_count": 0,
      "outputs": [
        {
          "output_type": "execute_result",
          "data": {
            "text/html": [
              "<div>\n",
              "<style scoped>\n",
              "    .dataframe tbody tr th:only-of-type {\n",
              "        vertical-align: middle;\n",
              "    }\n",
              "\n",
              "    .dataframe tbody tr th {\n",
              "        vertical-align: top;\n",
              "    }\n",
              "\n",
              "    .dataframe thead th {\n",
              "        text-align: right;\n",
              "    }\n",
              "</style>\n",
              "<table border=\"1\" class=\"dataframe\">\n",
              "  <thead>\n",
              "    <tr style=\"text-align: right;\">\n",
              "      <th>attacktype1_txt</th>\n",
              "      <th>Armed Assault</th>\n",
              "      <th>Assassination</th>\n",
              "      <th>Bombing/Explosion</th>\n",
              "      <th>Facility/Infrastructure Attack</th>\n",
              "      <th>Hijacking</th>\n",
              "      <th>Hostage Taking (Barricade Incident)</th>\n",
              "      <th>Hostage Taking (Kidnapping)</th>\n",
              "      <th>Unarmed Assault</th>\n",
              "      <th>Unknown</th>\n",
              "    </tr>\n",
              "  </thead>\n",
              "  <tbody>\n",
              "    <tr>\n",
              "      <th>nkill</th>\n",
              "      <td>135393.0</td>\n",
              "      <td>23355.0</td>\n",
              "      <td>142490.0</td>\n",
              "      <td>2582.0</td>\n",
              "      <td>3646.0</td>\n",
              "      <td>3525.0</td>\n",
              "      <td>14133.0</td>\n",
              "      <td>796.0</td>\n",
              "      <td>25354.0</td>\n",
              "    </tr>\n",
              "  </tbody>\n",
              "</table>\n",
              "</div>"
            ],
            "text/plain": [
              "attacktype1_txt  Armed Assault  Assassination  ...  Unarmed Assault  Unknown\n",
              "nkill                 135393.0        23355.0  ...            796.0  25354.0\n",
              "\n",
              "[1 rows x 9 columns]"
            ]
          },
          "metadata": {
            "tags": []
          },
          "execution_count": 21
        }
      ]
    },
    {
      "cell_type": "code",
      "metadata": {
        "id": "AySGgXtnDo8L",
        "colab_type": "code",
        "outputId": "dbd488c0-e5a9-4f1f-efc5-358c042b4e68",
        "colab": {
          "base_uri": "https://localhost:8080/",
          "height": 153
        }
      },
      "source": [
        "casualties_wound_summarize = casualties_data_nona.pivot_table(columns='attacktype1_txt', values='nwound', aggfunc='sum')\n",
        "casualties_wound_summarize"
      ],
      "execution_count": 0,
      "outputs": [
        {
          "output_type": "execute_result",
          "data": {
            "text/html": [
              "<div>\n",
              "<style scoped>\n",
              "    .dataframe tbody tr th:only-of-type {\n",
              "        vertical-align: middle;\n",
              "    }\n",
              "\n",
              "    .dataframe tbody tr th {\n",
              "        vertical-align: top;\n",
              "    }\n",
              "\n",
              "    .dataframe thead th {\n",
              "        text-align: right;\n",
              "    }\n",
              "</style>\n",
              "<table border=\"1\" class=\"dataframe\">\n",
              "  <thead>\n",
              "    <tr style=\"text-align: right;\">\n",
              "      <th>attacktype1_txt</th>\n",
              "      <th>Armed Assault</th>\n",
              "      <th>Assassination</th>\n",
              "      <th>Bombing/Explosion</th>\n",
              "      <th>Facility/Infrastructure Attack</th>\n",
              "      <th>Hijacking</th>\n",
              "      <th>Hostage Taking (Barricade Incident)</th>\n",
              "      <th>Hostage Taking (Kidnapping)</th>\n",
              "      <th>Unarmed Assault</th>\n",
              "      <th>Unknown</th>\n",
              "    </tr>\n",
              "  </thead>\n",
              "  <tbody>\n",
              "    <tr>\n",
              "      <th>nwound</th>\n",
              "      <td>76993.0</td>\n",
              "      <td>13854.0</td>\n",
              "      <td>371743.0</td>\n",
              "      <td>3711.0</td>\n",
              "      <td>16996.0</td>\n",
              "      <td>3940.0</td>\n",
              "      <td>6134.0</td>\n",
              "      <td>13995.0</td>\n",
              "      <td>14252.0</td>\n",
              "    </tr>\n",
              "  </tbody>\n",
              "</table>\n",
              "</div>"
            ],
            "text/plain": [
              "attacktype1_txt  Armed Assault  Assassination  ...  Unarmed Assault  Unknown\n",
              "nwound                 76993.0        13854.0  ...          13995.0  14252.0\n",
              "\n",
              "[1 rows x 9 columns]"
            ]
          },
          "metadata": {
            "tags": []
          },
          "execution_count": 22
        }
      ]
    },
    {
      "cell_type": "code",
      "metadata": {
        "id": "SEXr0z_sEcfw",
        "colab_type": "code",
        "outputId": "abbac396-d1b0-4b46-f0e7-65a92f924c44",
        "colab": {
          "base_uri": "https://localhost:8080/",
          "height": 92
        }
      },
      "source": [
        "# Let's make piechart for easier view on the statistic\n",
        "!pip install plotly==4.1.0\n",
        "import plotly.graph_objects as go\n",
        "from plotly.subplots import make_subplots"
      ],
      "execution_count": 0,
      "outputs": [
        {
          "output_type": "stream",
          "text": [
            "Requirement already satisfied: plotly==4.1.0 in /usr/local/lib/python3.6/dist-packages (4.1.0)\n",
            "Requirement already satisfied: retrying>=1.3.3 in /usr/local/lib/python3.6/dist-packages (from plotly==4.1.0) (1.3.3)\n",
            "Requirement already satisfied: six in /usr/local/lib/python3.6/dist-packages (from plotly==4.1.0) (1.12.0)\n"
          ],
          "name": "stdout"
        }
      ]
    },
    {
      "cell_type": "code",
      "metadata": {
        "id": "Qr7UpEWMGFP4",
        "colab_type": "code",
        "outputId": "527a23bb-d617-4896-a011-1d22717af4ed",
        "colab": {
          "base_uri": "https://localhost:8080/",
          "height": 542
        }
      },
      "source": [
        "labels = casualties_wound_summarize.columns\n",
        "kill_values = casualties_kill_summarize.to_numpy()\n",
        "wound_values = casualties_wound_summarize.to_numpy()\n",
        "\n",
        "fig = make_subplots(rows=1, cols=2, specs=[[{'type':'domain'}, {'type':'domain'}]])\n",
        "fig.add_trace(go.Pie(labels=labels, values=kill_values[0], name=\"Type of attacks cause death\"),\n",
        "              1, 1)\n",
        "fig.add_trace(go.Pie(labels=labels, values=wound_values[0], name=\"Type of attacks cause wound\"),\n",
        "              1, 2)\n",
        "\n",
        "# Use `hole` to create a donut-like pie chart\n",
        "fig.update_traces(hole=.4, hoverinfo=\"label+percent+name\")\n",
        "\n",
        "fig.update_layout(\n",
        "    title_text=\"Global Terrorism \",\n",
        "    # Add annotations in the center of the donut pies.\n",
        "    annotations=[dict(text='Death', x=0.16, y=0.5, font_size=20, showarrow=False),\n",
        "                 dict(text='Wound', x=0.85, y=0.5, font_size=20, showarrow=False)])\n",
        "fig.show()"
      ],
      "execution_count": 0,
      "outputs": [
        {
          "output_type": "display_data",
          "data": {
            "text/html": [
              "<html>\n",
              "<head><meta charset=\"utf-8\" /></head>\n",
              "<body>\n",
              "    <div>\n",
              "            <script src=\"https://cdnjs.cloudflare.com/ajax/libs/mathjax/2.7.5/MathJax.js?config=TeX-AMS-MML_SVG\"></script><script type=\"text/javascript\">if (window.MathJax) {MathJax.Hub.Config({SVG: {font: \"STIX-Web\"}});}</script>\n",
              "                <script type=\"text/javascript\">window.PlotlyConfig = {MathJaxConfig: 'local'};</script>\n",
              "        <script src=\"https://cdn.plot.ly/plotly-latest.min.js\"></script>    \n",
              "            <div id=\"f1bc53ac-4f36-4e42-ad51-f6ea15d02846\" class=\"plotly-graph-div\" style=\"height:525px; width:100%;\"></div>\n",
              "            <script type=\"text/javascript\">\n",
              "                \n",
              "                    window.PLOTLYENV=window.PLOTLYENV || {};\n",
              "                    \n",
              "                if (document.getElementById(\"f1bc53ac-4f36-4e42-ad51-f6ea15d02846\")) {\n",
              "                    Plotly.newPlot(\n",
              "                        'f1bc53ac-4f36-4e42-ad51-f6ea15d02846',\n",
              "                        [{\"domain\": {\"x\": [0.0, 0.45], \"y\": [0.0, 1.0]}, \"hole\": 0.4, \"hoverinfo\": \"label+percent+name\", \"labels\": [\"Armed Assault\", \"Assassination\", \"Bombing/Explosion\", \"Facility/Infrastructure Attack\", \"Hijacking\", \"Hostage Taking (Barricade Incident)\", \"Hostage Taking (Kidnapping)\", \"Unarmed Assault\", \"Unknown\"], \"name\": \"Type of attacks cause death\", \"type\": \"pie\", \"values\": [135393.0, 23355.0, 142490.0, 2582.0, 3646.0, 3525.0, 14133.0, 796.0, 25354.0]}, {\"domain\": {\"x\": [0.55, 1.0], \"y\": [0.0, 1.0]}, \"hole\": 0.4, \"hoverinfo\": \"label+percent+name\", \"labels\": [\"Armed Assault\", \"Assassination\", \"Bombing/Explosion\", \"Facility/Infrastructure Attack\", \"Hijacking\", \"Hostage Taking (Barricade Incident)\", \"Hostage Taking (Kidnapping)\", \"Unarmed Assault\", \"Unknown\"], \"name\": \"Type of attacks cause wound\", \"type\": \"pie\", \"values\": [76993.0, 13854.0, 371743.0, 3711.0, 16996.0, 3940.0, 6134.0, 13995.0, 14252.0]}],\n",
              "                        {\"annotations\": [{\"font\": {\"size\": 20}, \"showarrow\": false, \"text\": \"Death\", \"x\": 0.16, \"y\": 0.5}, {\"font\": {\"size\": 20}, \"showarrow\": false, \"text\": \"Wound\", \"x\": 0.85, \"y\": 0.5}], \"template\": {\"data\": {\"bar\": [{\"error_x\": {\"color\": \"#2a3f5f\"}, \"error_y\": {\"color\": \"#2a3f5f\"}, \"marker\": {\"line\": {\"color\": \"#E5ECF6\", \"width\": 0.5}}, \"type\": \"bar\"}], \"barpolar\": [{\"marker\": {\"line\": {\"color\": \"#E5ECF6\", \"width\": 0.5}}, \"type\": \"barpolar\"}], \"carpet\": [{\"aaxis\": {\"endlinecolor\": \"#2a3f5f\", \"gridcolor\": \"white\", \"linecolor\": \"white\", \"minorgridcolor\": \"white\", \"startlinecolor\": \"#2a3f5f\"}, \"baxis\": {\"endlinecolor\": \"#2a3f5f\", \"gridcolor\": \"white\", \"linecolor\": \"white\", \"minorgridcolor\": \"white\", \"startlinecolor\": \"#2a3f5f\"}, \"type\": \"carpet\"}], \"choropleth\": [{\"colorbar\": {\"outlinewidth\": 0, \"ticks\": \"\"}, \"type\": \"choropleth\"}], \"contour\": [{\"colorbar\": {\"outlinewidth\": 0, \"ticks\": \"\"}, \"colorscale\": [[0.0, \"#0d0887\"], [0.1111111111111111, \"#46039f\"], [0.2222222222222222, \"#7201a8\"], [0.3333333333333333, \"#9c179e\"], [0.4444444444444444, \"#bd3786\"], [0.5555555555555556, \"#d8576b\"], [0.6666666666666666, \"#ed7953\"], [0.7777777777777778, \"#fb9f3a\"], [0.8888888888888888, \"#fdca26\"], [1.0, \"#f0f921\"]], \"type\": \"contour\"}], \"contourcarpet\": [{\"colorbar\": {\"outlinewidth\": 0, \"ticks\": \"\"}, \"type\": \"contourcarpet\"}], \"heatmap\": [{\"colorbar\": {\"outlinewidth\": 0, \"ticks\": \"\"}, \"colorscale\": [[0.0, \"#0d0887\"], [0.1111111111111111, \"#46039f\"], [0.2222222222222222, \"#7201a8\"], [0.3333333333333333, \"#9c179e\"], [0.4444444444444444, \"#bd3786\"], [0.5555555555555556, \"#d8576b\"], [0.6666666666666666, \"#ed7953\"], [0.7777777777777778, \"#fb9f3a\"], [0.8888888888888888, \"#fdca26\"], [1.0, \"#f0f921\"]], \"type\": \"heatmap\"}], \"heatmapgl\": [{\"colorbar\": {\"outlinewidth\": 0, \"ticks\": \"\"}, \"colorscale\": [[0.0, \"#0d0887\"], [0.1111111111111111, \"#46039f\"], [0.2222222222222222, \"#7201a8\"], [0.3333333333333333, \"#9c179e\"], [0.4444444444444444, \"#bd3786\"], [0.5555555555555556, \"#d8576b\"], [0.6666666666666666, \"#ed7953\"], [0.7777777777777778, \"#fb9f3a\"], [0.8888888888888888, \"#fdca26\"], [1.0, \"#f0f921\"]], \"type\": \"heatmapgl\"}], \"histogram\": [{\"marker\": {\"colorbar\": {\"outlinewidth\": 0, \"ticks\": \"\"}}, \"type\": \"histogram\"}], \"histogram2d\": [{\"colorbar\": {\"outlinewidth\": 0, \"ticks\": \"\"}, \"colorscale\": [[0.0, \"#0d0887\"], [0.1111111111111111, \"#46039f\"], [0.2222222222222222, \"#7201a8\"], [0.3333333333333333, \"#9c179e\"], [0.4444444444444444, \"#bd3786\"], [0.5555555555555556, \"#d8576b\"], [0.6666666666666666, \"#ed7953\"], [0.7777777777777778, \"#fb9f3a\"], [0.8888888888888888, \"#fdca26\"], [1.0, \"#f0f921\"]], \"type\": \"histogram2d\"}], \"histogram2dcontour\": [{\"colorbar\": {\"outlinewidth\": 0, \"ticks\": \"\"}, \"colorscale\": [[0.0, \"#0d0887\"], [0.1111111111111111, \"#46039f\"], [0.2222222222222222, \"#7201a8\"], [0.3333333333333333, \"#9c179e\"], [0.4444444444444444, \"#bd3786\"], [0.5555555555555556, \"#d8576b\"], [0.6666666666666666, \"#ed7953\"], [0.7777777777777778, \"#fb9f3a\"], [0.8888888888888888, \"#fdca26\"], [1.0, \"#f0f921\"]], \"type\": \"histogram2dcontour\"}], \"mesh3d\": [{\"colorbar\": {\"outlinewidth\": 0, \"ticks\": \"\"}, \"type\": \"mesh3d\"}], \"parcoords\": [{\"line\": {\"colorbar\": {\"outlinewidth\": 0, \"ticks\": \"\"}}, \"type\": \"parcoords\"}], \"scatter\": [{\"marker\": {\"colorbar\": {\"outlinewidth\": 0, \"ticks\": \"\"}}, \"type\": \"scatter\"}], \"scatter3d\": [{\"line\": {\"colorbar\": {\"outlinewidth\": 0, \"ticks\": \"\"}}, \"marker\": {\"colorbar\": {\"outlinewidth\": 0, \"ticks\": \"\"}}, \"type\": \"scatter3d\"}], \"scattercarpet\": [{\"marker\": {\"colorbar\": {\"outlinewidth\": 0, \"ticks\": \"\"}}, \"type\": \"scattercarpet\"}], \"scattergeo\": [{\"marker\": {\"colorbar\": {\"outlinewidth\": 0, \"ticks\": \"\"}}, \"type\": \"scattergeo\"}], \"scattergl\": [{\"marker\": {\"colorbar\": {\"outlinewidth\": 0, \"ticks\": \"\"}}, \"type\": \"scattergl\"}], \"scattermapbox\": [{\"marker\": {\"colorbar\": {\"outlinewidth\": 0, \"ticks\": \"\"}}, \"type\": \"scattermapbox\"}], \"scatterpolar\": [{\"marker\": {\"colorbar\": {\"outlinewidth\": 0, \"ticks\": \"\"}}, \"type\": \"scatterpolar\"}], \"scatterpolargl\": [{\"marker\": {\"colorbar\": {\"outlinewidth\": 0, \"ticks\": \"\"}}, \"type\": \"scatterpolargl\"}], \"scatterternary\": [{\"marker\": {\"colorbar\": {\"outlinewidth\": 0, \"ticks\": \"\"}}, \"type\": \"scatterternary\"}], \"surface\": [{\"colorbar\": {\"outlinewidth\": 0, \"ticks\": \"\"}, \"colorscale\": [[0.0, \"#0d0887\"], [0.1111111111111111, \"#46039f\"], [0.2222222222222222, \"#7201a8\"], [0.3333333333333333, \"#9c179e\"], [0.4444444444444444, \"#bd3786\"], [0.5555555555555556, \"#d8576b\"], [0.6666666666666666, \"#ed7953\"], [0.7777777777777778, \"#fb9f3a\"], [0.8888888888888888, \"#fdca26\"], [1.0, \"#f0f921\"]], \"type\": \"surface\"}], \"table\": [{\"cells\": {\"fill\": {\"color\": \"#EBF0F8\"}, \"line\": {\"color\": \"white\"}}, \"header\": {\"fill\": {\"color\": \"#C8D4E3\"}, \"line\": {\"color\": \"white\"}}, \"type\": \"table\"}]}, \"layout\": {\"annotationdefaults\": {\"arrowcolor\": \"#2a3f5f\", \"arrowhead\": 0, \"arrowwidth\": 1}, \"colorscale\": {\"diverging\": [[0, \"#8e0152\"], [0.1, \"#c51b7d\"], [0.2, \"#de77ae\"], [0.3, \"#f1b6da\"], [0.4, \"#fde0ef\"], [0.5, \"#f7f7f7\"], [0.6, \"#e6f5d0\"], [0.7, \"#b8e186\"], [0.8, \"#7fbc41\"], [0.9, \"#4d9221\"], [1, \"#276419\"]], \"sequential\": [[0.0, \"#0d0887\"], [0.1111111111111111, \"#46039f\"], [0.2222222222222222, \"#7201a8\"], [0.3333333333333333, \"#9c179e\"], [0.4444444444444444, \"#bd3786\"], [0.5555555555555556, \"#d8576b\"], [0.6666666666666666, \"#ed7953\"], [0.7777777777777778, \"#fb9f3a\"], [0.8888888888888888, \"#fdca26\"], [1.0, \"#f0f921\"]], \"sequentialminus\": [[0.0, \"#0d0887\"], [0.1111111111111111, \"#46039f\"], [0.2222222222222222, \"#7201a8\"], [0.3333333333333333, \"#9c179e\"], [0.4444444444444444, \"#bd3786\"], [0.5555555555555556, \"#d8576b\"], [0.6666666666666666, \"#ed7953\"], [0.7777777777777778, \"#fb9f3a\"], [0.8888888888888888, \"#fdca26\"], [1.0, \"#f0f921\"]]}, \"colorway\": [\"#636efa\", \"#EF553B\", \"#00cc96\", \"#ab63fa\", \"#FFA15A\", \"#19d3f3\", \"#FF6692\", \"#B6E880\", \"#FF97FF\", \"#FECB52\"], \"font\": {\"color\": \"#2a3f5f\"}, \"geo\": {\"bgcolor\": \"white\", \"lakecolor\": \"white\", \"landcolor\": \"#E5ECF6\", \"showlakes\": true, \"showland\": true, \"subunitcolor\": \"white\"}, \"hoverlabel\": {\"align\": \"left\"}, \"hovermode\": \"closest\", \"mapbox\": {\"style\": \"light\"}, \"paper_bgcolor\": \"white\", \"plot_bgcolor\": \"#E5ECF6\", \"polar\": {\"angularaxis\": {\"gridcolor\": \"white\", \"linecolor\": \"white\", \"ticks\": \"\"}, \"bgcolor\": \"#E5ECF6\", \"radialaxis\": {\"gridcolor\": \"white\", \"linecolor\": \"white\", \"ticks\": \"\"}}, \"scene\": {\"xaxis\": {\"backgroundcolor\": \"#E5ECF6\", \"gridcolor\": \"white\", \"gridwidth\": 2, \"linecolor\": \"white\", \"showbackground\": true, \"ticks\": \"\", \"zerolinecolor\": \"white\"}, \"yaxis\": {\"backgroundcolor\": \"#E5ECF6\", \"gridcolor\": \"white\", \"gridwidth\": 2, \"linecolor\": \"white\", \"showbackground\": true, \"ticks\": \"\", \"zerolinecolor\": \"white\"}, \"zaxis\": {\"backgroundcolor\": \"#E5ECF6\", \"gridcolor\": \"white\", \"gridwidth\": 2, \"linecolor\": \"white\", \"showbackground\": true, \"ticks\": \"\", \"zerolinecolor\": \"white\"}}, \"shapedefaults\": {\"line\": {\"color\": \"#2a3f5f\"}}, \"ternary\": {\"aaxis\": {\"gridcolor\": \"white\", \"linecolor\": \"white\", \"ticks\": \"\"}, \"baxis\": {\"gridcolor\": \"white\", \"linecolor\": \"white\", \"ticks\": \"\"}, \"bgcolor\": \"#E5ECF6\", \"caxis\": {\"gridcolor\": \"white\", \"linecolor\": \"white\", \"ticks\": \"\"}}, \"title\": {\"x\": 0.05}, \"xaxis\": {\"automargin\": true, \"gridcolor\": \"white\", \"linecolor\": \"white\", \"ticks\": \"\", \"zerolinecolor\": \"white\", \"zerolinewidth\": 2}, \"yaxis\": {\"automargin\": true, \"gridcolor\": \"white\", \"linecolor\": \"white\", \"ticks\": \"\", \"zerolinecolor\": \"white\", \"zerolinewidth\": 2}}}, \"title\": {\"text\": \"Global Terrorism \"}},\n",
              "                        {\"responsive\": true}\n",
              "                    ).then(function(){\n",
              "                            \n",
              "var gd = document.getElementById('f1bc53ac-4f36-4e42-ad51-f6ea15d02846');\n",
              "var x = new MutationObserver(function (mutations, observer) {{\n",
              "        var display = window.getComputedStyle(gd).display;\n",
              "        if (!display || display === 'none') {{\n",
              "            console.log([gd, 'removed!']);\n",
              "            Plotly.purge(gd);\n",
              "            observer.disconnect();\n",
              "        }}\n",
              "}});\n",
              "\n",
              "// Listen for the removal of the full notebook cells\n",
              "var notebookContainer = gd.closest('#notebook-container');\n",
              "if (notebookContainer) {{\n",
              "    x.observe(notebookContainer, {childList: true});\n",
              "}}\n",
              "\n",
              "// Listen for the clearing of the current output cell\n",
              "var outputEl = gd.closest('.output');\n",
              "if (outputEl) {{\n",
              "    x.observe(outputEl, {childList: true});\n",
              "}}\n",
              "\n",
              "                        })\n",
              "                };\n",
              "                \n",
              "            </script>\n",
              "        </div>\n",
              "</body>\n",
              "</html>"
            ]
          },
          "metadata": {
            "tags": []
          }
        }
      ]
    },
    {
      "cell_type": "code",
      "metadata": {
        "id": "dwbXZD-EJvyg",
        "colab_type": "code",
        "colab": {}
      },
      "source": [
        "# We can see that both armed assault and bombing explosion make up for most of the casualties\n",
        "# This must be why terrorist prefered these attack types\n",
        "# One more reason is because it is easier to get their hands on these with reasonable price"
      ],
      "execution_count": 0,
      "outputs": []
    },
    {
      "cell_type": "code",
      "metadata": {
        "id": "NPbEJF0ttUiL",
        "colab_type": "code",
        "outputId": "fc1de6e6-a618-44cd-d241-8207141079f3",
        "colab": {
          "base_uri": "https://localhost:8080/",
          "height": 35
        }
      },
      "source": [
        "# Upon taking close inspection on dataset, we can see some interesting field:\n",
        "# number of fatalities vs number of fatalities in US\n",
        "# number of non-fatalities vs number of non-fatalities in US\n",
        "# Why having specific numerical value for US?\n",
        "# Maybe the dataset collected by US or having some interesting facts\n",
        "# Let's compare the 2\n",
        "gbtm_data_hdf['nkillus'].count()/gbtm_data_hdf['nkill'].count()"
      ],
      "execution_count": 0,
      "outputs": [
        {
          "output_type": "execute_result",
          "data": {
            "text/plain": [
              "0.6841309853073323"
            ]
          },
          "metadata": {
            "tags": []
          },
          "execution_count": 24
        }
      ]
    },
    {
      "cell_type": "code",
      "metadata": {
        "id": "p7L-3aV0uhoR",
        "colab_type": "code",
        "outputId": "076ce4df-ba8d-43b1-f519-351956661185",
        "colab": {
          "base_uri": "https://localhost:8080/",
          "height": 35
        }
      },
      "source": [
        "gbtm_data_hdf['nwoundus'].count()/gbtm_data_hdf['nwound'].count()"
      ],
      "execution_count": 0,
      "outputs": [
        {
          "output_type": "execute_result",
          "data": {
            "text/plain": [
              "0.7073950900955376"
            ]
          },
          "metadata": {
            "tags": []
          },
          "execution_count": 25
        }
      ]
    },
    {
      "cell_type": "code",
      "metadata": {
        "id": "of2eOnUXu35_",
        "colab_type": "code",
        "outputId": "7cd9c5d5-578d-4566-8b5f-1064a2f749d0",
        "colab": {
          "base_uri": "https://localhost:8080/",
          "height": 301
        }
      },
      "source": [
        "# Ugh seems like the occurance of fatalities and non-fatalities of US people in all terrorism activity is very high\n",
        "\n",
        "sns.lineplot(x='iyear', y='nkillus', data=gbtm_data_hdf)\n",
        "sns.lineplot(x='iyear', y='nwoundus', data=gbtm_data_hdf)"
      ],
      "execution_count": 0,
      "outputs": [
        {
          "output_type": "execute_result",
          "data": {
            "text/plain": [
              "<matplotlib.axes._subplots.AxesSubplot at 0x7fac7becf6d8>"
            ]
          },
          "metadata": {
            "tags": []
          },
          "execution_count": 26
        },
        {
          "output_type": "display_data",
          "data": {
            "image/png": "[encoded data removed]",
            "text/plain": [
              "<Figure size 432x288 with 1 Axes>"
            ]
          },
          "metadata": {
            "tags": []
          }
        }
      ]
    },
    {
      "cell_type": "code",
      "metadata": {
        "id": "rJBIHej3xDHH",
        "colab_type": "code",
        "outputId": "c953426d-343a-46fe-f260-c38e29fb397b",
        "colab": {
          "base_uri": "https://localhost:8080/",
          "height": 735
        }
      },
      "source": [
        "# Ugh nice line plot, but quite small and the number seems like average group by year\n",
        "# Multiple line plot seems impossible with seaborn so let's get back to plt\n",
        "\n",
        "gbtm_data_hdf['nkillus'].plot(kind = 'line', color = 'red', \n",
        "                           label = 'The Number of Total Confirmed Fatalities for US', \n",
        "                           linewidth = 2, alpha = 0.8, grid = True, \n",
        "                           linestyle = ':', figsize = (12,12), fontsize=15)\n",
        "\n",
        "gbtm_data_hdf['nwoundus'].plot(kind = 'line', color = \"green\", \n",
        "                            label = 'The Number of Confirmed Non-Fatal Injuries for US', \n",
        "                            linewidth = 2, alpha = 0.8, grid = True, \n",
        "                            linestyle = '-.', figsize = (12,12), fontsize=15)\n",
        "    \n",
        "plt.xlabel('Dataset index', fontsize=10)              \n",
        "plt.ylabel('Number of Dead or Injuries', fontsize=15)\n",
        "plt.title('Confirmed Fatalities & Non-Fatal Injuries for US')\n",
        "plt.show()\n"
      ],
      "execution_count": 0,
      "outputs": [
        {
          "output_type": "display_data",
          "data": {
            "image/png": "[encoded data removed]",
            "text/plain": [
              "<Figure size 864x864 with 1 Axes>"
            ]
          },
          "metadata": {
            "tags": []
          }
        }
      ]
    },
    {
      "cell_type": "code",
      "metadata": {
        "id": "yP_-Vu7Tysae",
        "colab_type": "code",
        "outputId": "1cc810e4-cba4-4888-f256-4b16847bd42d",
        "colab": {
          "base_uri": "https://localhost:8080/",
          "height": 301
        }
      },
      "source": [
        "# Death and Injuries of all time\n",
        "sns.scatterplot(x=\"nkill\", y=\"nwound\", data=gbtm_data_hdf)"
      ],
      "execution_count": 0,
      "outputs": [
        {
          "output_type": "execute_result",
          "data": {
            "text/plain": [
              "<matplotlib.axes._subplots.AxesSubplot at 0x7fac7be17240>"
            ]
          },
          "metadata": {
            "tags": []
          },
          "execution_count": 28
        },
        {
          "output_type": "display_data",
          "data": {
            "image/png": "[encoded data removed]",
            "text/plain": [
              "<Figure size 432x288 with 1 Axes>"
            ]
          },
          "metadata": {
            "tags": []
          }
        }
      ]
    },
    {
      "cell_type": "code",
      "metadata": {
        "id": "zb-WMPUazWyo",
        "colab_type": "code",
        "outputId": "b48c1839-e5a9-4064-866f-c76ddba91ef8",
        "colab": {
          "base_uri": "https://localhost:8080/",
          "height": 740
        }
      },
      "source": [
        "# Ugh the size is small and i dunno how to add label for graph\n",
        "# Well get back to plt\n",
        "gbtm_data_hdf.plot(kind = 'scatter', x = 'nkill', y = 'nwound', alpha = 0.5, color = 'violet', figsize = (12,12), fontsize=15)\n",
        "plt.xlabel('Kill', fontsize=15)\n",
        "plt.ylabel('Wound', fontsize=15)\n",
        "plt.title('Kill - Wound Scatter Plot')\n",
        "plt.show()"
      ],
      "execution_count": 0,
      "outputs": [
        {
          "output_type": "display_data",
          "data": {
            "image/png": "[encoded data removed]",
            "text/plain": [
              "<Figure size 864x864 with 1 Axes>"
            ]
          },
          "metadata": {
            "tags": []
          }
        }
      ]
    },
    {
      "cell_type": "code",
      "metadata": {
        "id": "FvFL73mky8-E",
        "colab_type": "code",
        "outputId": "ba83bf78-3780-4aa3-8c03-4f0d8b89fafb",
        "colab": {
          "base_uri": "https://localhost:8080/",
          "height": 740
        }
      },
      "source": [
        "# Frequency of terrorism\n",
        "\n",
        "\n",
        "# Histogram plot\n",
        "# bins = number of bar in figure\n",
        "gbtm_data_hdf['iyear'].plot(kind = 'hist', bins = 30, figsize = (12,12), color = 'gray', fontsize=15)\n",
        "plt.xlabel('Year', fontsize=15)\n",
        "plt.ylabel('Frequency', fontsize=15)\n",
        "plt.title('Frequency of Terrorism Actions by Years')\n",
        "plt.show()\n",
        "\n"
      ],
      "execution_count": 0,
      "outputs": [
        {
          "output_type": "display_data",
          "data": {
            "image/png": "[encoded data removed]",
            "text/plain": [
              "<Figure size 864x864 with 1 Axes>"
            ]
          },
          "metadata": {
            "tags": []
          }
        }
      ]
    },
    {
      "cell_type": "code",
      "metadata": {
        "id": "TWkUjdzizqWW",
        "colab_type": "code",
        "colab": {}
      },
      "source": [
        ""
      ],
      "execution_count": 0,
      "outputs": []
    }
  ]
}